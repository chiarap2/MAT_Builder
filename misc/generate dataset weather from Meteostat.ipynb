{
 "cells": [
  {
   "cell_type": "code",
   "execution_count": null,
   "id": "c24ecc88",
   "metadata": {},
   "outputs": [],
   "source": [
    "import pandas as pd\n",
    "import numpy as np"
   ]
  },
  {
   "cell_type": "markdown",
   "id": "5a8f87a2-5c32-438a-883e-e7d372c8e56f",
   "metadata": {},
   "source": [
    "# Download daily weather information from Meteostat\n",
    "\n",
    "NOTE: please, insert the identifier of the desired station. Identifiers can be found at https://meteostat.net/.\n",
    "\n",
    "EXAMPLE: if we want to download historical daily data concerning the city of Paris, we can access the station with ID 07156,\n",
    "         which corresponds to the Paris-Montsouris weather station."
   ]
  },
  {
   "cell_type": "code",
   "execution_count": null,
   "id": "2abb0e4d-32ac-44c2-a023-a73ebd3db549",
   "metadata": {},
   "outputs": [],
   "source": [
    "# Identifier of the station of interest.\n",
    "station = '07156'\n",
    "\n",
    "# These are the columns expected to be found in a Meteostat daily weather CSV\n",
    "# (see also https://dev.meteostat.net/bulk/daily.html#endpoints).\n",
    "list_columns = ['date', 'tavg', 'tmin', 'tmax', 'prcp', 'snow', 'wdir', 'wspd', 'wpgt', 'pres', 'tsun']\n",
    "\n",
    "meteo = pd.read_csv(f\"https://bulk.meteostat.net/v2/daily/{station}.csv.gz\", names = list_columns)"
   ]
  },
  {
   "cell_type": "markdown",
   "id": "e1c22f3b-fe22-41ab-8864-7898207456d4",
   "metadata": {},
   "source": [
    "### Remove weather records that occur before a given cutoff_date"
   ]
  },
  {
   "cell_type": "code",
   "execution_count": null,
   "id": "6f083c7e-d386-457c-9a85-15640f7d9422",
   "metadata": {},
   "outputs": [],
   "source": [
    "cutoff_date = '2020-01-01'\n",
    "meteo = meteo.loc[(meteo['date'] >= cutoff_date), :]\n",
    "display(meteo)\n",
    "display(meteo.info())"
   ]
  },
  {
   "cell_type": "markdown",
   "id": "8df9cd06-5942-402b-96a5-edc28c5dae9f",
   "metadata": {},
   "source": [
    "### Select the columns of interest"
   ]
  },
  {
   "cell_type": "code",
   "execution_count": null,
   "id": "d0c8bf31",
   "metadata": {},
   "outputs": [],
   "source": [
    "meteo = meteo.loc[:, ['date', 'tavg', 'prcp']] # Select the columns of interest.\n",
    "meteo['tavg'] = meteo['tavg'].interpolate() # Interpolate the avg temperature when it's missing.\n",
    "meteo['prcp'] = meteo['prcp'].fillna(0) # Assume it didn't rain when the precipitation value is missing.\n",
    "\n",
    "display(meteo.info())\n",
    "display(meteo)"
   ]
  },
  {
   "cell_type": "markdown",
   "id": "5d9dab66-9adc-4356-9399-2fe449468b1e",
   "metadata": {},
   "source": [
    "### Determine the overall weather conditions based on the precipitation (in mm) that has fallen in a given day"
   ]
  },
  {
   "cell_type": "code",
   "execution_count": null,
   "id": "8e10c616",
   "metadata": {},
   "outputs": [],
   "source": [
    "meteo['conditions'] = 'violent rain'\n",
    "meteo.loc[:, 'conditions'] = 'heavy rain'\n",
    "meteo.loc[meteo['prcp'] < 7.6, 'conditions'] = 'moderate rain'\n",
    "meteo.loc[meteo['prcp'] < 2.5, 'conditions'] = 'light rain'\n",
    "meteo.loc[meteo['prcp'] == 0, 'conditions'] = 'sunny'\n",
    "\n",
    "display(meteo['conditions'].value_counts())\n",
    "display(meteo.info())\n",
    "display(meteo)"
   ]
  },
  {
   "cell_type": "markdown",
   "id": "82031f6c-3492-490a-8464-7f11a8860bea",
   "metadata": {},
   "source": [
    "### Prepare the processed dataframe for storage"
   ]
  },
  {
   "cell_type": "code",
   "execution_count": null,
   "id": "a6f2776b",
   "metadata": {},
   "outputs": [],
   "source": [
    "name_file_output = \"weather_paris.parquet\"\n",
    "\n",
    "meteo.drop(columns = 'prcp', inplace = True)\n",
    "meteo.rename(columns = {'date' : 'DATE', 'tavg' : 'TAVG_C', 'conditions' : 'DESCRIPTION'}, inplace = True)\n",
    "meteo.reset_index(drop = True, inplace = True)\n",
    "display(meteo.info())\n",
    "display(meteo)\n",
    "\n",
    "meteo.to_parquet(name_file_output)"
   ]
  }
 ],
 "metadata": {
  "kernelspec": {
   "display_name": "Python 3 (ipykernel)",
   "language": "python",
   "name": "python3"
  },
  "language_info": {
   "codemirror_mode": {
    "name": "ipython",
    "version": 3
   },
   "file_extension": ".py",
   "mimetype": "text/x-python",
   "name": "python",
   "nbconvert_exporter": "python",
   "pygments_lexer": "ipython3",
   "version": "3.9.16"
  }
 },
 "nbformat": 4,
 "nbformat_minor": 5
}
