{
 "cells": [
  {
   "cell_type": "code",
   "execution_count": null,
   "id": "3faade8c-acac-441d-94fc-29a0cede33e7",
   "metadata": {},
   "outputs": [],
   "source": [
    "import pandas as pd\n",
    "import geopandas as gpd\n",
    "import osmnx as ox"
   ]
  },
  {
   "cell_type": "markdown",
   "id": "04ad7f2f-4b1f-4525-b6c3-f11c5ab057d9",
   "metadata": {},
   "source": [
    "### Auxiliary function, extracted from the Enrichment class, used to generate a POI dataset from OSM data."
   ]
  },
  {
   "cell_type": "code",
   "execution_count": null,
   "id": "b7bd64b1-882a-4f76-aab6-095b58759f37",
   "metadata": {},
   "outputs": [],
   "source": [
    "def download_poi_osm(list_pois: list[str], place: str, write_intermediate_files: bool = False) -> gpd.GeoDataFrame:\n",
    "\n",
    "    # Final list of the columns that are expected to be found in the POI dataframe.\n",
    "    list_columns_df_poi = ['osmid', 'element_type', 'name', 'name:en', 'wikidata', 'geometry', 'category']\n",
    "\n",
    "    # Here we download the POIs from OSM if the list of types of POIs is not empty.\n",
    "    gdf = gpd.GeoDataFrame(columns=list_columns_df_poi, crs=\"EPSG:4326\")\n",
    "    if list_pois:\n",
    "\n",
    "        print(f\"Downloading POIs from OSM for the location {place}...\")\n",
    "        for key in list_pois:\n",
    "\n",
    "            # downloading POI\n",
    "            print(f\"Downloading {key} POIs from OSM...\")\n",
    "            poi = ox.features_from_place(place, tags={key: True})\n",
    "            print(f\"Download completed!\")\n",
    "\n",
    "            # Immediately return the empty dataframe if it doesn't contain any suitable POI...\n",
    "            if poi.empty:\n",
    "                print(f\"No POI found for category {key}!\")\n",
    "                break\n",
    "\n",
    "            # Remove the POIs that do not have a name.\n",
    "            poi.reset_index(inplace=True)\n",
    "            poi.drop(columns='category', inplace = True, errors='ignore') # Delete the column 'category' if it exists.\n",
    "            poi.rename(columns={key: 'category'}, inplace=True)\n",
    "            poi.drop(columns = poi.columns.difference(list_columns_df_poi), inplace=True)\n",
    "            poi = poi.loc[~poi['name'].isna()]\n",
    "            poi['category'].replace({'yes': key}, inplace=True)\n",
    "\n",
    "            # Now write out this subset of POIs to a file.\n",
    "            if write_intermediate_files: poi.to_parquet('./' + key + '.parquet')\n",
    "\n",
    "            # And finally, concatenate this subset of POIs to the other POIs\n",
    "            # that have been added to the main dataframe so far.\n",
    "            gdf = pd.concat([gdf, poi])\n",
    "\n",
    "        gdf.reset_index(drop=True, inplace=True)\n",
    "        return gdf"
   ]
  },
  {
   "cell_type": "markdown",
   "id": "467dc2ba-6ded-4ac3-ac87-67c42be9bece",
   "metadata": {},
   "source": [
    "### Use the above function to generate a POI dataset from OpenStreetMap data\n",
    "\n",
    "Note: provide (1) a list of categories, (2) the place containing the POIs, and (3) the path to the output file."
   ]
  },
  {
   "cell_type": "code",
   "execution_count": null,
   "id": "118e5238-5549-4a55-aa20-b16c2148e288",
   "metadata": {},
   "outputs": [],
   "source": [
    "list_POI_cats = ['amenity', 'shop', 'tourism']\n",
    "place = 'Rome, Italy'\n",
    "path_output = './pois.parquet'\n",
    "\n",
    "gdf = download_poi_osm(list_POI_cats, place, True)\n",
    "gdf.info()\n",
    "\n",
    "gdf.to_parquet(path_output)"
   ]
  }
 ],
 "metadata": {
  "kernelspec": {
   "display_name": "Python 3 (ipykernel)",
   "language": "python",
   "name": "python3"
  },
  "language_info": {
   "codemirror_mode": {
    "name": "ipython",
    "version": 3
   },
   "file_extension": ".py",
   "mimetype": "text/x-python",
   "name": "python",
   "nbconvert_exporter": "python",
   "pygments_lexer": "ipython3",
   "version": "3.9.16"
  }
 },
 "nbformat": 4,
 "nbformat_minor": 5
}
