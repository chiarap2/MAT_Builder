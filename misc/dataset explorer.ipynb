{
 "cells": [
  {
   "cell_type": "code",
   "execution_count": null,
   "id": "3afb8872",
   "metadata": {},
   "outputs": [],
   "source": [
    "import pandas as pd\n",
    "import numpy as np"
   ]
  },
  {
   "cell_type": "code",
   "execution_count": null,
   "id": "7c3d893c",
   "metadata": {},
   "outputs": [],
   "source": [
    "# df = pd.read_parquet('rome.parquet')\n",
    "df = pd.read_parquet('geolife.parquet')\n",
    "display(df.info())"
   ]
  },
  {
   "cell_type": "code",
   "execution_count": null,
   "id": "a070a36d",
   "metadata": {},
   "outputs": [],
   "source": [
    "view = df.loc[:, ['user', 'traj_id', 'time']].copy()\n",
    "view.sort_values(by = 'time', inplace = True)\n",
    "view.reset_index(drop = True, inplace = True)\n",
    "\n",
    "display(view)\n",
    "display(view.info())"
   ]
  },
  {
   "cell_type": "markdown",
   "id": "b2e80b63",
   "metadata": {},
   "source": [
    "#### Computing trajectory-wide statistics..."
   ]
  },
  {
   "cell_type": "code",
   "execution_count": null,
   "id": "e0abd60d",
   "metadata": {},
   "outputs": [],
   "source": [
    "gb = view.groupby(['user','traj_id'], sort = False)\n",
    "traj_info = pd.DataFrame()\n",
    "\n",
    "traj_info['start'] = gb['time'].min()\n",
    "traj_info['end'] = gb['time'].max()\n",
    "traj_info['duration'] = traj_info['end'] - traj_info['start']\n",
    "traj_info['num_samples'] = gb['time'].size()\n",
    "view['diff'] = view['time'] - gb['time'].shift(1)\n",
    "traj_info['avg_sampling'] = gb['diff'].mean()\n",
    "del view\n",
    "\n",
    "display(traj_info)\n",
    "display(traj_info.info())"
   ]
  },
  {
   "cell_type": "code",
   "execution_count": null,
   "id": "63f26e3c",
   "metadata": {},
   "outputs": [],
   "source": [
    "traj_info.reset_index(drop = False, inplace = True)\n",
    "display(traj_info)\n",
    "traj_info.sort_values(by = ['user', 'start'], inplace = True)\n",
    "gb = traj_info.groupby(['user'], sort = False)\n",
    "\n",
    "traj_info['gap_trajectory'] = gb['end'].shift(1)\n",
    "traj_info['gap_trajectory'] = (traj_info['start'] - traj_info['gap_trajectory'])\n",
    "display(traj_info)\n",
    "display(traj_info.info())"
   ]
  },
  {
   "cell_type": "markdown",
   "id": "032b210c",
   "metadata": {},
   "source": [
    "#### Computing user-wide statistics"
   ]
  },
  {
   "cell_type": "code",
   "execution_count": null,
   "id": "45bba8c3",
   "metadata": {},
   "outputs": [],
   "source": [
    "stats_user = pd.DataFrame()\n",
    "stats_user['begin'] = gb['start'].min()\n",
    "stats_user['end'] = gb['end'].max()\n",
    "stats_user['timespan'] = stats_user['end'] - stats_user['begin']\n",
    "stats_user['num_trajectories'] = gb['traj_id'].size()\n",
    "stats_user['avg_duration_trajectories'] = gb['duration'].mean()\n",
    "stats_user['avg_num_samples_trajectories'] = gb['num_samples'].mean()\n",
    "stats_user['avg_sampling_trajectories'] = gb['avg_sampling'].mean()\n",
    "stats_user['frequency_trajectories'] = stats_user['timespan'] / stats_user['num_trajectories']\n",
    "stats_user['avg_gap_trajectories'] = gb['gap_trajectory'].mean()\n",
    "display(stats_user.info())\n",
    "\n",
    "# Take into account those users who have just 1 trajectory, or all the trajectories with just 1 sample.\n",
    "stats_user['avg_sampling_trajectories'] = stats_user['avg_sampling_trajectories'].fillna(pd.Timedelta(0))\n",
    "stats_user['avg_gap_trajectories'] = stats_user['avg_gap_trajectories'].fillna(pd.Timedelta(0))"
   ]
  },
  {
   "cell_type": "markdown",
   "id": "643f9508",
   "metadata": {},
   "source": [
    "#### Computing dataset-wide statistics"
   ]
  },
  {
   "cell_type": "code",
   "execution_count": null,
   "id": "26c68e58",
   "metadata": {},
   "outputs": [],
   "source": [
    "display(stats_user.info())\n",
    "#display(stats_user.sort_values(by = ['timespan'], ascending = False).head(50))\n",
    "\n",
    "num_users = len(stats_user)\n",
    "num_trajectories = stats_user['num_trajectories'].sum()\n",
    "avg_timespan = stats_user['timespan'].mean()\n",
    "std_timespan = stats_user['timespan'].std()\n",
    "avg_num_trajs = round(stats_user['num_trajectories'].mean(), 2)\n",
    "std_num_trajs = round(stats_user['num_trajectories'].std(), 2)\n",
    "avg_duration_trajs = stats_user['avg_duration_trajectories'].mean()\n",
    "std_duration_trajs = stats_user['avg_duration_trajectories'].std()\n",
    "avg_num_samples_trajs = round(stats_user['avg_num_samples_trajectories'].mean(), 2)\n",
    "std_num_samples_trajs = round(stats_user['avg_num_samples_trajectories'].std(), 2)\n",
    "avg_sampling_trajs = stats_user['avg_sampling_trajectories'].mean()\n",
    "std_sampling_trajs = stats_user['avg_sampling_trajectories'].std()\n",
    "avg_freq_trajs = stats_user['frequency_trajectories'].mean()\n",
    "std_freq_trajs = stats_user['frequency_trajectories'].std()\n",
    "avg_gap_trajs = stats_user['avg_gap_trajectories'].mean()\n",
    "std_gap_trajs = stats_user['avg_gap_trajectories'].std()\n",
    "num_notable_users_month = len(stats_user.loc[stats_user['timespan'] >= pd.Timedelta(days = 28), :])\n",
    "num_notable_users_week = len(stats_user.loc[stats_user['timespan'] >= pd.Timedelta(days = 7), :])\n",
    "num_notable_users_day = len(stats_user.loc[stats_user['timespan'] >= pd.Timedelta(days = 1), :])\n",
    "\n",
    "print(f\"Number of users: {num_users}\\n\" +\n",
    "      f\"Number of trajectories: {num_trajectories}\\n\" +\n",
    "      f\"Time spanned by users: mean => {avg_timespan}, std => {std_timespan}\\n\\n\" +\n",
    "      f\"Number of trajectories per user: mean => {avg_num_trajs}, std => {std_num_trajs}\\n\" +\n",
    "      f\"Duration of trajectories: mean => {avg_duration_trajs}, std => {std_duration_trajs}\\n\" +\n",
    "      f\"Average number of samples per trajectory: mean => {avg_num_samples_trajs}, std => {std_num_samples_trajs}\\n\" +\n",
    "      f\"Average sampling rate trajectories: mean => {avg_sampling_trajs}, std => {std_sampling_trajs}\\n\" +\n",
    "      f\"Average frequency of trajectories per user:  mean => {avg_freq_trajs}, std => {std_freq_trajs}\\n\" +\n",
    "      f\"Average gap between trajectories:  mean => {avg_gap_trajs}, std => {std_gap_trajs}\\n\" +\n",
    "      f\"Number of users with data spanning more than: 4 weeks => {num_notable_users_month}, 1 week => {num_notable_users_week}, 1 day => {num_notable_users_day}\")"
   ]
  }
 ],
 "metadata": {
  "kernelspec": {
   "display_name": "Python 3 (ipykernel)",
   "language": "python",
   "name": "python3"
  },
  "language_info": {
   "codemirror_mode": {
    "name": "ipython",
    "version": 3
   },
   "file_extension": ".py",
   "mimetype": "text/x-python",
   "name": "python",
   "nbconvert_exporter": "python",
   "pygments_lexer": "ipython3",
   "version": "3.9.13"
  }
 },
 "nbformat": 4,
 "nbformat_minor": 5
}
